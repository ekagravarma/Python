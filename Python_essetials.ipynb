{
  "nbformat": 4,
  "nbformat_minor": 0,
  "metadata": {
    "colab": {
      "name": "Python essetials.ipynb",
      "provenance": [],
      "authorship_tag": "ABX9TyOiXuLHtLXhr+9u6B5E0/Hq",
      "include_colab_link": true
    },
    "kernelspec": {
      "name": "python3",
      "display_name": "Python 3"
    },
    "language_info": {
      "name": "python"
    }
  },
  "cells": [
    {
      "cell_type": "markdown",
      "metadata": {
        "id": "view-in-github",
        "colab_type": "text"
      },
      "source": [
        "<a href=\"https://colab.research.google.com/github/ekagravarma/Python/blob/main/Python_essetials.ipynb\" target=\"_parent\"><img src=\"https://colab.research.google.com/assets/colab-badge.svg\" alt=\"Open In Colab\"/></a>"
      ]
    },
    {
      "cell_type": "markdown",
      "source": [
        "\n",
        "Escape characters:\n"
      ],
      "metadata": {
        "id": "MxDPJ96uQ4wa"
      }
    },
    {
      "cell_type": "code",
      "execution_count": null,
      "metadata": {
        "colab": {
          "base_uri": "https://localhost:8080/"
        },
        "id": "xPzUbC2XQGAR",
        "outputId": "68a91e90-82b9-4bf0-d503-e03e453b679c"
      },
      "outputs": [
        {
          "output_type": "stream",
          "name": "stdout",
          "text": [
            "C:\\narry\n",
            "C:my name is\n",
            "EKAGRA\tVARMA\n"
          ]
        }
      ],
      "source": [
        "\n",
        "#\\n = Escape\n",
        "#\\t = tab \n",
        "print(\"C:\\\\narry\")\n",
        "print(\"C:my name is\\nEKAGRA\\tVARMA\")"
      ]
    },
    {
      "cell_type": "markdown",
      "source": [
        "ADD 2 nos."
      ],
      "metadata": {
        "id": "ctXj42iRR3D_"
      }
    },
    {
      "cell_type": "code",
      "source": [
        "n=int(input())\n",
        "m=int(input())\n",
        "print(\"the sum =\",n+m)"
      ],
      "metadata": {
        "colab": {
          "base_uri": "https://localhost:8080/"
        },
        "id": "GpYzec1WR3mF",
        "outputId": "dc40e2e4-5d5f-4d12-8777-0655b1e096c5"
      },
      "execution_count": null,
      "outputs": [
        {
          "output_type": "stream",
          "name": "stdout",
          "text": [
            "1\n",
            "2\n",
            "the sum = 3\n"
          ]
        }
      ]
    },
    {
      "cell_type": "markdown",
      "source": [
        "Dictionaries"
      ],
      "metadata": {
        "id": "_pZQcvt5VUNz"
      }
    },
    {
      "cell_type": "code",
      "source": [
        "d1={}\n",
        "d2={\"RAM\":\"1\",\"SHYAM\":\"2\",\"LAXMAN\":\"3\"}\n",
        "print(d2)\n",
        "print(d2[\"RAM\"])\n",
        "print(d2.keys())\n",
        "print(d2.items())"
      ],
      "metadata": {
        "colab": {
          "base_uri": "https://localhost:8080/"
        },
        "id": "2-ft1SIlVUmZ",
        "outputId": "61b045ac-dc73-43dd-b04f-8c425a248b3e"
      },
      "execution_count": null,
      "outputs": [
        {
          "output_type": "stream",
          "name": "stdout",
          "text": [
            "{'RAM': '1', 'SHYAM': '2', 'LAXMAN': '3'}\n",
            "1\n",
            "dict_keys(['RAM', 'SHYAM', 'LAXMAN'])\n",
            "dict_items([('RAM', '1'), ('SHYAM', '2'), ('LAXMAN', '3')])\n"
          ]
        }
      ]
    },
    {
      "cell_type": "markdown",
      "source": [
        "Excercise --> create a dictionary(word,meaning) and search the meaning of the word enter by the user"
      ],
      "metadata": {
        "id": "R5_4CEMIW5oM"
      }
    },
    {
      "cell_type": "code",
      "source": [
        "d={}\n",
        "\n",
        "print(\"Enter Length =\")\n",
        "n=int(input())\n",
        "for i in range(n):\n",
        "  word=input()\n",
        "  meaning=input()\n",
        "  d[word]=meaning\n",
        "print(d)\n",
        "print(\"ENter word to search\")\n",
        "w1=input()\n",
        "print(\"word's meaning =\",d[w1])"
      ],
      "metadata": {
        "colab": {
          "base_uri": "https://localhost:8080/"
        },
        "id": "uwASVZj_XJR4",
        "outputId": "ddfdfc86-c8ce-48d5-e3d3-53840d254e93"
      },
      "execution_count": null,
      "outputs": [
        {
          "output_type": "stream",
          "name": "stdout",
          "text": [
            "Enter Length =\n",
            "2\n",
            "21\n",
            "to\n",
            "22\n",
            "tt\n",
            "{'21': 'to', '22': 'tt'}\n",
            "ENter word to search\n",
            "22\n",
            "word's meaning = tt\n"
          ]
        }
      ]
    },
    {
      "cell_type": "markdown",
      "source": [
        "Else-if ==> if age>18 --> eleigible to drive otherwise not"
      ],
      "metadata": {
        "id": "-tLMwyRTb36F"
      }
    },
    {
      "cell_type": "code",
      "source": [
        "def driveage():\n",
        "  print(\"Enter No.\")\n",
        "  n=int(input())\n",
        "  if n>18:\n",
        "    print(\"Eligible\")\n",
        "  elif (n<18):\n",
        "    print(\"Not Eligible\")\n",
        "  else:\n",
        "    print(\"cant decide , come physically \")\n",
        "  print(\"Continue?\\tY or\\tN\")\n",
        "  m=input()\n",
        "if (m == 'Y' or m=='y'):\n",
        "  driveage()"
      ],
      "metadata": {
        "colab": {
          "base_uri": "https://localhost:8080/"
        },
        "id": "fdTK9D9gb5pT",
        "outputId": "5aa707eb-e8e8-40d2-b91e-20c4cfe6c5e1"
      },
      "execution_count": null,
      "outputs": [
        {
          "name": "stdout",
          "output_type": "stream",
          "text": [
            "Enter No.\n",
            "32\n",
            "Eligible\n",
            "Continue?\tY or\tN\n",
            "n\n"
          ]
        }
      ]
    },
    {
      "cell_type": "markdown",
      "source": [
        "WAP to print all the nos. in a given range eg.(5,45) using **BREAK & CONTINUE**"
      ],
      "metadata": {
        "id": "sstf3n-sgVaa"
      }
    },
    {
      "cell_type": "code",
      "source": [
        "i=0\n",
        "while(True):\n",
        "  if(i<5):\n",
        "    i=i+1\n",
        "    continue\n",
        "  print(i)\n",
        "  i=i+1\n",
        "  if(i>45):\n",
        "    break\n"
      ],
      "metadata": {
        "colab": {
          "base_uri": "https://localhost:8080/"
        },
        "id": "2ig1iaC2gnJQ",
        "outputId": "f545c535-d8cb-49e5-af7e-18650078161e"
      },
      "execution_count": null,
      "outputs": [
        {
          "output_type": "stream",
          "name": "stdout",
          "text": [
            "5\n",
            "6\n",
            "7\n",
            "8\n",
            "9\n",
            "10\n",
            "11\n",
            "12\n",
            "13\n",
            "14\n",
            "15\n",
            "16\n",
            "17\n",
            "18\n",
            "19\n",
            "20\n",
            "21\n",
            "22\n",
            "23\n",
            "24\n",
            "25\n",
            "26\n",
            "27\n",
            "28\n",
            "29\n",
            "30\n",
            "31\n",
            "32\n",
            "33\n",
            "34\n",
            "35\n",
            "36\n",
            "37\n",
            "38\n",
            "39\n",
            "40\n",
            "41\n",
            "42\n",
            "43\n",
            "44\n",
            "45\n"
          ]
        }
      ]
    },
    {
      "cell_type": "markdown",
      "source": [
        "take input until and uness user inputs no. greater than 100, and once its done print congo,u got 100 "
      ],
      "metadata": {
        "id": "W2jYCuwxmOjd"
      }
    },
    {
      "cell_type": "code",
      "source": [
        "n=int(input())\n",
        "while(n<100):\n",
        "  print(\"pls try again\")\n",
        "  n=int(input())\n",
        "  continue\n",
        "print(\"congo,got 100+\")\n",
        "\n"
      ],
      "metadata": {
        "colab": {
          "base_uri": "https://localhost:8080/"
        },
        "id": "CktEp-tdmPj5",
        "outputId": "50a3f9b2-4687-4b11-d2b8-98723756660a"
      },
      "execution_count": 5,
      "outputs": [
        {
          "output_type": "stream",
          "name": "stdout",
          "text": [
            "99\n",
            "pls try again\n",
            "65\n",
            "pls try again\n",
            "90\n",
            "pls try again\n",
            "32\n",
            "pls try again\n",
            "-1\n",
            "pls try again\n",
            "0\n",
            "pls try again\n",
            "103\n",
            "congo,got 100+\n"
          ]
        }
      ]
    },
    {
      "cell_type": "code",
      "source": [
        "while(True):\n",
        "  print(\"Enter a no.\")\n",
        "  n=int(input())\n",
        "  if n>100:\n",
        "    print('got it 100+')\n",
        "    break\n",
        "  else:\n",
        "    print(\"pls try again\")\n",
        "    continue"
      ],
      "metadata": {
        "colab": {
          "base_uri": "https://localhost:8080/"
        },
        "id": "u2UgdqLvoSVD",
        "outputId": "8301030e-423e-4ee2-cde5-df66581ebcf3"
      },
      "execution_count": 7,
      "outputs": [
        {
          "output_type": "stream",
          "name": "stdout",
          "text": [
            "Enter a no.\n",
            "67\n",
            "pls try again\n",
            "Enter a no.\n",
            "43\n",
            "pls try again\n",
            "Enter a no.\n",
            "1000\n",
            "got it 100+\n"
          ]
        }
      ]
    },
    {
      "cell_type": "markdown",
      "source": [
        "WAP to enter a no \"n\" and make the other user guess which no. has been inputed, if no is less or greater than let the user know what is the difference .\n",
        "the no of max guess is 9.\n",
        "prit no. of guesses. and gameover "
      ],
      "metadata": {
        "id": "-0GeyTCuptLd"
      }
    },
    {
      "cell_type": "code",
      "source": [
        "print(\"player 1:Enter the no.\")\n",
        "n = int (input())\n",
        "c=0\n",
        "while (c<6):\n",
        "  print(\"player2: guess the no.\")\n",
        "  m=int(input())\n",
        "  if(n>m):\n",
        "    c=c+1\n",
        "    print(\"u guessed a smaller no.\")\n",
        "    continue\n",
        "  elif n<m: \n",
        "    c=c+1\n",
        "    print (\"u guessed a greater no.\")\n",
        "    continue\n",
        "  elif n==m:\n",
        "    print(\"gotcha,u got at\",c,\"steps\")\n",
        "    break\n",
        "if(c==6):\n",
        "  print(\"game-over\")"
      ],
      "metadata": {
        "colab": {
          "base_uri": "https://localhost:8080/"
        },
        "id": "xXnWfghVqYq7",
        "outputId": "9b9436e6-90d7-4107-bf46-bd1098559be8"
      },
      "execution_count": 9,
      "outputs": [
        {
          "output_type": "stream",
          "name": "stdout",
          "text": [
            "player 1:Enter the no.\n",
            "5\n",
            "player2: guess the no.\n",
            "3\n",
            "u guessed a smaller no.\n",
            "player2: guess the no.\n",
            "6\n",
            "u guessed a greater no.\n",
            "player2: guess the no.\n",
            "7\n",
            "u guessed a greater no.\n",
            "player2: guess the no.\n",
            "8\n",
            "u guessed a greater no.\n",
            "player2: guess the no.\n",
            "2\n",
            "u guessed a smaller no.\n",
            "player2: guess the no.\n",
            "1\n",
            "u guessed a smaller no.\n",
            "game-over\n"
          ]
        }
      ]
    }
  ]
}