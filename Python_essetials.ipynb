{
  "cells": [
    {
      "cell_type": "markdown",
      "metadata": {
        "id": "view-in-github",
        "colab_type": "text"
      },
      "source": [
        "<a href=\"https://colab.research.google.com/github/ekagravarma/Python/blob/main/Python_essetials.ipynb\" target=\"_parent\"><img src=\"https://colab.research.google.com/assets/colab-badge.svg\" alt=\"Open In Colab\"/></a>"
      ]
    },
    {
      "cell_type": "markdown",
      "metadata": {
        "id": "MxDPJ96uQ4wa"
      },
      "source": [
        "\n",
        "Escape characters:\n"
      ]
    },
    {
      "cell_type": "code",
      "execution_count": null,
      "metadata": {
        "colab": {
          "base_uri": "https://localhost:8080/"
        },
        "id": "xPzUbC2XQGAR",
        "outputId": "68a91e90-82b9-4bf0-d503-e03e453b679c"
      },
      "outputs": [
        {
          "name": "stdout",
          "output_type": "stream",
          "text": [
            "C:\\narry\n",
            "C:my name is\n",
            "EKAGRA\tVARMA\n"
          ]
        }
      ],
      "source": [
        "\n",
        "#\\n = Escape\n",
        "#\\t = tab \n",
        "print(\"C:\\\\narry\")\n",
        "print(\"C:my name is\\nEKAGRA\\tVARMA\")"
      ]
    },
    {
      "cell_type": "markdown",
      "metadata": {
        "id": "ctXj42iRR3D_"
      },
      "source": [
        "ADD 2 nos."
      ]
    },
    {
      "cell_type": "code",
      "execution_count": null,
      "metadata": {
        "colab": {
          "base_uri": "https://localhost:8080/"
        },
        "id": "GpYzec1WR3mF",
        "outputId": "dc40e2e4-5d5f-4d12-8777-0655b1e096c5"
      },
      "outputs": [
        {
          "name": "stdout",
          "output_type": "stream",
          "text": [
            "1\n",
            "2\n",
            "the sum = 3\n"
          ]
        }
      ],
      "source": [
        "n=int(input())\n",
        "m=int(input())\n",
        "print(\"the sum =\",n+m)"
      ]
    },
    {
      "cell_type": "markdown",
      "metadata": {
        "id": "_pZQcvt5VUNz"
      },
      "source": [
        "Dictionaries"
      ]
    },
    {
      "cell_type": "code",
      "execution_count": null,
      "metadata": {
        "colab": {
          "base_uri": "https://localhost:8080/"
        },
        "id": "2-ft1SIlVUmZ",
        "outputId": "61b045ac-dc73-43dd-b04f-8c425a248b3e"
      },
      "outputs": [
        {
          "name": "stdout",
          "output_type": "stream",
          "text": [
            "{'RAM': '1', 'SHYAM': '2', 'LAXMAN': '3'}\n",
            "1\n",
            "dict_keys(['RAM', 'SHYAM', 'LAXMAN'])\n",
            "dict_items([('RAM', '1'), ('SHYAM', '2'), ('LAXMAN', '3')])\n"
          ]
        }
      ],
      "source": [
        "d1={}\n",
        "d2={\"RAM\":\"1\",\"SHYAM\":\"2\",\"LAXMAN\":\"3\"}\n",
        "print(d2)\n",
        "print(d2[\"RAM\"])\n",
        "print(d2.keys())\n",
        "print(d2.items())"
      ]
    },
    {
      "cell_type": "markdown",
      "metadata": {
        "id": "R5_4CEMIW5oM"
      },
      "source": [
        "Excercise --> create a dictionary(word,meaning) and search the meaning of the word enter by the user"
      ]
    },
    {
      "cell_type": "code",
      "execution_count": null,
      "metadata": {
        "colab": {
          "base_uri": "https://localhost:8080/"
        },
        "id": "uwASVZj_XJR4",
        "outputId": "ddfdfc86-c8ce-48d5-e3d3-53840d254e93"
      },
      "outputs": [
        {
          "name": "stdout",
          "output_type": "stream",
          "text": [
            "Enter Length =\n",
            "2\n",
            "21\n",
            "to\n",
            "22\n",
            "tt\n",
            "{'21': 'to', '22': 'tt'}\n",
            "ENter word to search\n",
            "22\n",
            "word's meaning = tt\n"
          ]
        }
      ],
      "source": [
        "d={}\n",
        "\n",
        "print(\"Enter Length =\")\n",
        "n=int(input())\n",
        "for i in range(n):\n",
        "  word=input()\n",
        "  meaning=input()\n",
        "  d[word]=meaning\n",
        "print(d)\n",
        "print(\"ENter word to search\")\n",
        "w1=input()\n",
        "print(\"word's meaning =\",d[w1])"
      ]
    },
    {
      "cell_type": "markdown",
      "metadata": {
        "id": "-tLMwyRTb36F"
      },
      "source": [
        "Else-if ==> if age>18 --> eleigible to drive otherwise not"
      ]
    },
    {
      "cell_type": "code",
      "execution_count": null,
      "metadata": {
        "colab": {
          "base_uri": "https://localhost:8080/"
        },
        "id": "fdTK9D9gb5pT",
        "outputId": "5aa707eb-e8e8-40d2-b91e-20c4cfe6c5e1"
      },
      "outputs": [
        {
          "name": "stdout",
          "output_type": "stream",
          "text": [
            "Enter No.\n",
            "32\n",
            "Eligible\n",
            "Continue?\tY or\tN\n",
            "n\n"
          ]
        }
      ],
      "source": [
        "def driveage():\n",
        "  print(\"Enter No.\")\n",
        "  n=int(input())\n",
        "  if n>18:\n",
        "    print(\"Eligible\")\n",
        "  elif (n<18):\n",
        "    print(\"Not Eligible\")\n",
        "  else:\n",
        "    print(\"cant decide , come physically \")\n",
        "  print(\"Continue?\\tY or\\tN\")\n",
        "  m=input()\n",
        "if (m == 'Y' or m=='y'):\n",
        "  driveage()"
      ]
    },
    {
      "cell_type": "markdown",
      "metadata": {
        "id": "sstf3n-sgVaa"
      },
      "source": [
        "WAP to print all the nos. in a given range eg.(5,45) using **BREAK & CONTINUE**"
      ]
    },
    {
      "cell_type": "code",
      "execution_count": null,
      "metadata": {
        "colab": {
          "base_uri": "https://localhost:8080/"
        },
        "id": "2ig1iaC2gnJQ",
        "outputId": "f545c535-d8cb-49e5-af7e-18650078161e"
      },
      "outputs": [
        {
          "name": "stdout",
          "output_type": "stream",
          "text": [
            "5\n",
            "6\n",
            "7\n",
            "8\n",
            "9\n",
            "10\n",
            "11\n",
            "12\n",
            "13\n",
            "14\n",
            "15\n",
            "16\n",
            "17\n",
            "18\n",
            "19\n",
            "20\n",
            "21\n",
            "22\n",
            "23\n",
            "24\n",
            "25\n",
            "26\n",
            "27\n",
            "28\n",
            "29\n",
            "30\n",
            "31\n",
            "32\n",
            "33\n",
            "34\n",
            "35\n",
            "36\n",
            "37\n",
            "38\n",
            "39\n",
            "40\n",
            "41\n",
            "42\n",
            "43\n",
            "44\n",
            "45\n"
          ]
        }
      ],
      "source": [
        "i=0\n",
        "while(True):\n",
        "  if(i<5):\n",
        "    i=i+1\n",
        "    continue\n",
        "  print(i)\n",
        "  i=i+1\n",
        "  if(i>45):\n",
        "    break\n"
      ]
    },
    {
      "cell_type": "markdown",
      "metadata": {
        "id": "W2jYCuwxmOjd"
      },
      "source": [
        "take input until and uness user inputs no. greater than 100, and once its done print congo,u got 100 "
      ]
    },
    {
      "cell_type": "code",
      "execution_count": null,
      "metadata": {
        "colab": {
          "base_uri": "https://localhost:8080/"
        },
        "id": "CktEp-tdmPj5",
        "outputId": "50a3f9b2-4687-4b11-d2b8-98723756660a"
      },
      "outputs": [
        {
          "name": "stdout",
          "output_type": "stream",
          "text": [
            "99\n",
            "pls try again\n",
            "65\n",
            "pls try again\n",
            "90\n",
            "pls try again\n",
            "32\n",
            "pls try again\n",
            "-1\n",
            "pls try again\n",
            "0\n",
            "pls try again\n",
            "103\n",
            "congo,got 100+\n"
          ]
        }
      ],
      "source": [
        "n=int(input())\n",
        "while(n<100):\n",
        "  print(\"pls try again\")\n",
        "  n=int(input())\n",
        "  continue\n",
        "print(\"congo,got 100+\")\n",
        "\n"
      ]
    },
    {
      "cell_type": "code",
      "execution_count": null,
      "metadata": {
        "colab": {
          "base_uri": "https://localhost:8080/"
        },
        "id": "u2UgdqLvoSVD",
        "outputId": "8301030e-423e-4ee2-cde5-df66581ebcf3"
      },
      "outputs": [
        {
          "name": "stdout",
          "output_type": "stream",
          "text": [
            "Enter a no.\n",
            "67\n",
            "pls try again\n",
            "Enter a no.\n",
            "43\n",
            "pls try again\n",
            "Enter a no.\n",
            "1000\n",
            "got it 100+\n"
          ]
        }
      ],
      "source": [
        "while(True):\n",
        "  print(\"Enter a no.\")\n",
        "  n=int(input())\n",
        "  if n>100:\n",
        "    print('got it 100+')\n",
        "    break\n",
        "  else:\n",
        "    print(\"pls try again\")\n",
        "    continue"
      ]
    },
    {
      "cell_type": "markdown",
      "metadata": {
        "id": "-0GeyTCuptLd"
      },
      "source": [
        "WAP to enter a no \"n\" and make the other user guess which no. has been inputed, if no is less or greater than let the user know what is the difference .\n",
        "the no of max guess is 9.\n",
        "prit no. of guesses. and gameover "
      ]
    },
    {
      "cell_type": "code",
      "execution_count": null,
      "metadata": {
        "colab": {
          "base_uri": "https://localhost:8080/"
        },
        "id": "xXnWfghVqYq7",
        "outputId": "9b9436e6-90d7-4107-bf46-bd1098559be8"
      },
      "outputs": [
        {
          "name": "stdout",
          "output_type": "stream",
          "text": [
            "player 1:Enter the no.\n",
            "5\n",
            "player2: guess the no.\n",
            "3\n",
            "u guessed a smaller no.\n",
            "player2: guess the no.\n",
            "6\n",
            "u guessed a greater no.\n",
            "player2: guess the no.\n",
            "7\n",
            "u guessed a greater no.\n",
            "player2: guess the no.\n",
            "8\n",
            "u guessed a greater no.\n",
            "player2: guess the no.\n",
            "2\n",
            "u guessed a smaller no.\n",
            "player2: guess the no.\n",
            "1\n",
            "u guessed a smaller no.\n",
            "game-over\n"
          ]
        }
      ],
      "source": [
        "print(\"player 1:Enter the no.\")\n",
        "n = int (input())\n",
        "c=0\n",
        "while (c<6):\n",
        "  print(\"player2: guess the no.\")\n",
        "  m=int(input())\n",
        "  if(n>m):\n",
        "    c=c+1\n",
        "    print(\"u guessed a smaller no.\")\n",
        "    continue\n",
        "  elif n<m: \n",
        "    c=c+1\n",
        "    print (\"u guessed a greater no.\")\n",
        "    continue\n",
        "  elif n==m:\n",
        "    print(\"gotcha,u got at\",c,\"steps\")\n",
        "    break\n",
        "if(c==6):\n",
        "  print(\"game-over\")"
      ]
    },
    {
      "cell_type": "markdown",
      "metadata": {
        "id": "_2FPloOJB8mn"
      },
      "source": [
        "OPERATORS-->"
      ]
    },
    {
      "cell_type": "code",
      "execution_count": null,
      "metadata": {
        "id": "NYIQYMAECBqO"
      },
      "outputs": [],
      "source": [
        "# Operators In Pythons\n",
        "# Arithmetic Operators\n",
        "# Assignment Operators\n",
        "# Comparison Operators\n",
        "# Logical Operators\n",
        "# Identity Operators\n",
        "# Membership Operators\n",
        "# Bitwise Operators\n",
        "\n",
        "# Arithmetic Operators\n",
        "# print(\"5 + 6 is \", 5+6)\n",
        "# print(\"5 - 6 is \", 5-6)\n",
        "# print(\"5 * 6 is \", 5*6)\n",
        "# print(\"5 / 6 is \", 5/6)\n",
        "# print(\"5 ** 3 is \", 5**3)\n",
        "# print(\"5 % 5 is \", 5%5)\n",
        "# print(\"15 // 6 is \", 15//6)\n",
        "\n",
        "# Assignment Operators\n",
        "# print(\"Assignment Operators\")\n",
        "# x = 5\n",
        "# print(x)\n",
        "# x %=7 # x = x%7\n",
        "# print(x)\n",
        "\n",
        "# Comparison Operators\n",
        "i = 5\n",
        "\n",
        "\n",
        "# Logical Operators\n",
        "a = True\n",
        "b = False\n",
        "\n",
        "# Identity Operators\n",
        "# print(5 is not 5)\n",
        "\n",
        "# Membership Operators\n",
        "list = [3, 3,2, 2,39, 33, 35,32]\n",
        "# print(324 not in list)\n",
        "\n",
        "# Bitwise Operators\n",
        "# 0 - 00\n",
        "# 1 - 01\n",
        "# 2 - 10\n",
        "# 3 - 11\n",
        "\n",
        "print(0 & 2)\n",
        "print(0 | 3)\n",
        "\n"
      ]
    },
    {
      "cell_type": "markdown",
      "metadata": {
        "id": "WUS5HLLrDuWv"
      },
      "source": [
        "short hand if else"
      ]
    },
    {
      "cell_type": "code",
      "execution_count": null,
      "metadata": {
        "colab": {
          "base_uri": "https://localhost:8080/"
        },
        "id": "GQR572sIDzoD",
        "outputId": "fd6c9b67-ddfb-4094-ceef-2bf674648f20"
      },
      "outputs": [
        {
          "name": "stdout",
          "output_type": "stream",
          "text": [
            "4\n",
            "5\n",
            "B is greater than A\n"
          ]
        }
      ],
      "source": [
        "A= int(input())\n",
        "B= int(input())\n",
        "print(\"A is greater than B\") if A>B else print(\"B is greater than A\")"
      ]
    },
    {
      "cell_type": "markdown",
      "metadata": {
        "id": "d235U6w2F2qt"
      },
      "source": [
        "functions"
      ]
    },
    {
      "cell_type": "code",
      "execution_count": null,
      "metadata": {
        "colab": {
          "base_uri": "https://localhost:8080/"
        },
        "id": "MNn3aL_WF4_E",
        "outputId": "216fea66-0404-43fc-d4a5-6c924791eb14"
      },
      "outputs": [
        {
          "name": "stdout",
          "output_type": "stream",
          "text": [
            "12\n",
            "this is a funtion for sum of 2 variable\n"
          ]
        }
      ],
      "source": [
        "def function1(a,b):\n",
        "  \"\"\"this is a funtion for sum of 2 variable\"\"\" # this is a Docstring \n",
        "  c=0\n",
        "  c=a+b  \n",
        "  return(c)\n",
        "v=function1(5,7)\n",
        "print(v)\n",
        "print(function1.__doc__)"
      ]
    },
    {
      "cell_type": "markdown",
      "metadata": {
        "id": "U7pYoecnIMmi"
      },
      "source": [
        ""
      ]
    },
    {
      "cell_type": "markdown",
      "metadata": {
        "id": "TfyO4PNYILwG"
      },
      "source": [
        "**READ A FILE and OTHER RELATED STUFFS **"
      ]
    },
    {
      "cell_type": "code",
      "execution_count": null,
      "metadata": {
        "colab": {
          "base_uri": "https://localhost:8080/"
        },
        "id": "a3DdH-l5lvqA",
        "outputId": "d583b4a4-01be-452c-df7e-4659a5f58ebd"
      },
      "outputs": [
        {
          "output_type": "stream",
          "name": "stdout",
          "text": [
            "ekagra varma is a good boy\n",
            "he is a smart boy\n",
            "\n",
            "[]\n",
            "\n",
            "ekagra varma is a good boy\n",
            "he is a smart boy\n",
            "this is the way to append\n",
            "\n",
            "ekagra varma is a good boy\n",
            "he is a smart boy\n",
            "this is the way to append\n",
            "appended\n",
            "ekagra varma is a good boy\n",
            "\n",
            "he is a smart boy\n",
            "\n",
            "ekagra varma is a good boy\n",
            "\n"
          ]
        }
      ],
      "source": [
        "\n",
        "g= open(\"ekagra.txt\",\"w\")\n",
        "g.write(\"ekagra varma is a good boy\\nhe is a smart boy\\n\")\n",
        "g.close()\n",
        "\n",
        "##########################################################\n",
        "f= open(\"ekagra.txt\",\"r\")\n",
        "q=f.read() #read entire line\n",
        "print(q)\n",
        "w=f.readline() #readline by line\n",
        "r=f.readlines() # read line as list \n",
        "f.close()\n",
        "print(r)\n",
        "print(w)\n",
        "\n",
        "##########################################################\n",
        "h=open(\"ekagra.txt\",\"a\")\n",
        "h.write(\"this is the way to append\\n\")\n",
        "h.close()\n",
        "##########################################################\n",
        "h=open(\"ekagra.txt\",\"r\")\n",
        "print(h.read())\n",
        "h.close()\n",
        "##########################################################\n",
        "f=open(\"ekagra.txt\",\"a\")\n",
        "f.write(\"appended\")\n",
        "f.close()\n",
        "##########################################################\n",
        "f=open(\"ekagra.txt\",\"r\")\n",
        "print(f.read())\n",
        "f.close()\n",
        "\n",
        "##########################################################\n",
        "f=open(\"ekagra.txt\",'r')\n",
        "print(f.readline())\n",
        "f.seek(27) # it takes the file pointer to that place ,(27) is char  \n",
        "f.tell()  # it tells where the file pointer is \n",
        "print(f.readline())\n",
        "f.close()\n",
        "\n",
        "\n",
        "##########################################################\n",
        "with open(\"ekagra.txt\") as f: #it also opens the file\n",
        "  a=f.readline()\n",
        "  print(a)\n",
        "f.close()\n"
      ]
    },
    {
      "cell_type": "markdown",
      "metadata": {
        "id": "J1cbO5rRupFH"
      },
      "source": [
        "**TRY-EXCEPT EXCEPION**"
      ]
    },
    {
      "cell_type": "code",
      "execution_count": null,
      "metadata": {
        "colab": {
          "base_uri": "https://localhost:8080/"
        },
        "id": "3abFRfoXm22r",
        "outputId": "e3721f2e-8a80-478a-e553-7d544614cb01"
      },
      "outputs": [
        {
          "name": "stdout",
          "output_type": "stream",
          "text": [
            "sec\n",
            "invalid literal for int() with base 10: 'sec'\n",
            "always print this line\n"
          ]
        }
      ],
      "source": [
        "try:                      #pahle try karo j underlying situation hai , agar possible nh hua tb exception me jaana \n",
        "  n=int(input()) \n",
        "except Exception as e:    #exception me \"E\" caps hai \n",
        "  print(e)\n",
        "print (\"always print this line\")"
      ]
    },
    {
      "cell_type": "code",
      "execution_count": null,
      "metadata": {
        "colab": {
          "base_uri": "https://localhost:8080/"
        },
        "id": "dfPYk8LHwoKR",
        "outputId": "73e6a23e-f81d-442c-fb0d-e4bbfc9607ca"
      },
      "outputs": [
        {
          "output_type": "stream",
          "name": "stdout",
          "text": [
            "\t\tWell come to Python Tutorial\n",
            "How many Rows You want Print:4\n",
            "Enter Pattern formet True=1 False=0:1\n",
            "\n",
            "*\n",
            "**\n",
            "***\n",
            "****\n"
          ]
        }
      ],
      "source": [
        "#wap To print  a pattern * ** *** ****  AND **** *** ** *\n",
        "\n",
        "# print (\"Enter no of rows\")\n",
        "# #n=int(input())\n",
        "# n=4\n",
        "# lst=[]\n",
        "# #print(\"enter 0 or 1\")\n",
        "# #m=bool(input())\n",
        "# #if (m== True):\n",
        "# for i in range(0,n):\n",
        "#   for j in range(0,i+1):\n",
        "#     print(\"*\",end = \"\")\n",
        "#     j=0\n",
        "#   print(\"\\n\")\n",
        "print(\"\\t\\tWell come to Python Tutorial\")\n",
        "value1=int(input(\"How many Rows You want Print:\"))\n",
        "value2=int(input(\"Enter Pattern formet True=1 False=0:\"))\n",
        "if value2==True:\n",
        "    for i in range(0,value1+1):\n",
        "        print(\"*\"*i)\n",
        "else:\n",
        "    for i in range(value1,0,-1):\n",
        "        print(\"*\"*i)\n"
      ]
    },
    {
      "cell_type": "code",
      "source": [
        "n=4\n",
        "i=0\n",
        "j=0\n",
        "for i in range(n+1):\n",
        "  #print(\"1\",i)\n",
        "  for j in reversed(range(0,n)):\n",
        "    #print(\"2\",j)\n",
        "    print(\"*\",end=\"\")\n",
        "  print(\"\\n\")"
      ],
      "metadata": {
        "colab": {
          "base_uri": "https://localhost:8080/"
        },
        "id": "JGPt-p37piXy",
        "outputId": "bfeb1683-8b81-4fb5-8492-ebb4b6746489"
      },
      "execution_count": null,
      "outputs": [
        {
          "output_type": "stream",
          "name": "stdout",
          "text": [
            "****\n",
            "\n",
            "****\n",
            "\n",
            "****\n",
            "\n",
            "****\n",
            "\n",
            "****\n",
            "\n"
          ]
        }
      ]
    },
    {
      "cell_type": "markdown",
      "source": [
        "***GLOBAL and LOCAL variables***"
      ],
      "metadata": {
        "id": "UhUEaKQdQlNo"
      }
    },
    {
      "cell_type": "code",
      "source": [
        "\n",
        "        #global x  #for changing value of a global variable in a function , u need to declare a \"global\" keyword\n",
        "    \n",
        "x = 89\n",
        "def harry():\n",
        "    x = 20\n",
        "    def rohan():\n",
        "        global x\n",
        "        x = 88\n",
        "    # print(\"before calling rohan()\", x)\n",
        "    rohan()\n",
        "    print(\"after calling rohan()\", x)\n",
        "\n",
        "harry()\n",
        "print(x)\n"
      ],
      "metadata": {
        "colab": {
          "base_uri": "https://localhost:8080/"
        },
        "id": "_mI3BUX6QkDV",
        "outputId": "d9915aa4-ed6e-4bec-943b-426f572622b5"
      },
      "execution_count": null,
      "outputs": [
        {
          "output_type": "stream",
          "name": "stdout",
          "text": [
            "after calling rohan() 20\n",
            "88\n"
          ]
        }
      ]
    },
    {
      "cell_type": "markdown",
      "source": [
        "***Recursion***"
      ],
      "metadata": {
        "id": "4G9mn7z_WTDJ"
      }
    },
    {
      "cell_type": "code",
      "source": [
        "#factoial\n",
        "print(\"enter no.\")\n",
        "n=int(input())\n",
        "def fact(n):\n",
        "  if n==0:\n",
        "    return 1\n",
        "  else:\n",
        "    \n",
        "    return(n*fact(n-1))\n",
        "v=fact(n)\n",
        "print(v)\n",
        "  \n",
        "\n",
        "#fibonacci no.\n",
        "print()\n",
        "a=0\n",
        "b=1\n",
        "c=a+b\n",
        "def fib(n):\n",
        "  if (n==0):\n",
        "    return 1\n",
        "  elif n==1:\n",
        "    return 1\n",
        "  else: return(fib(n-1)+fib(n-2))\n",
        "v=fib(n)\n",
        "print(v)"
      ],
      "metadata": {
        "colab": {
          "base_uri": "https://localhost:8080/"
        },
        "id": "NS-tslhMWXkx",
        "outputId": "3aef0378-9218-4a6f-ab19-4ffdff2d4985"
      },
      "execution_count": null,
      "outputs": [
        {
          "output_type": "stream",
          "name": "stdout",
          "text": [
            "enter no.\n",
            "5\n",
            "120\n",
            "\n",
            "8\n"
          ]
        }
      ]
    },
    {
      "cell_type": "markdown",
      "source": [
        "***LAMBDA FUNCTION***"
      ],
      "metadata": {
        "id": "rnKHdxDwh5nE"
      }
    },
    {
      "cell_type": "code",
      "source": [
        "#it is an anonymous function \n",
        "def sum1(a,b):\n",
        "  s=a+b\n",
        "  print(s)\n",
        "sum1(4,3)\n",
        "\n",
        "sum2 = lambda x,y:x+y\n",
        "print(sum2(4,3))\n",
        "\n",
        "####################################################\n",
        "\n",
        "lst = [[1,4],[5,6],[8,2]]\n",
        "\n",
        "sorty= lambda x:x[1]\n",
        "lst.sort (key=sorty)\n",
        "print(lst)\n",
        "\n",
        "####################################################"
      ],
      "metadata": {
        "colab": {
          "base_uri": "https://localhost:8080/"
        },
        "id": "ammIKAQjh6lX",
        "outputId": "614d070e-0807-4899-e83b-6d820428b4b6"
      },
      "execution_count": null,
      "outputs": [
        {
          "output_type": "stream",
          "name": "stdout",
          "text": [
            "7\n",
            "7\n",
            "[[8, 2], [1, 4], [5, 6]]\n"
          ]
        }
      ]
    },
    {
      "cell_type": "markdown",
      "source": [
        "\n",
        "Modules:\n"
      ],
      "metadata": {
        "id": "NMqwxS5coQBd"
      }
    },
    {
      "cell_type": "code",
      "source": [
        "import random as rd\n",
        "s={}\n",
        "n=9\n",
        "for i in range(n):\n",
        "\n",
        "  ran= rd.randint(1,5)\n",
        "  s[i]=ran\n",
        "# for i in range(n):\n",
        "print(s,end=\"\")"
      ],
      "metadata": {
        "id": "M8Y9zG8ysWLd",
        "colab": {
          "base_uri": "https://localhost:8080/"
        },
        "outputId": "9839db4b-a3fe-4d14-eb80-b87efc7c1b21"
      },
      "execution_count": null,
      "outputs": [
        {
          "output_type": "stream",
          "name": "stdout",
          "text": [
            "{0: 2, 1: 5, 2: 1, 3: 1, 4: 1, 5: 1, 6: 2, 7: 4, 8: 4}"
          ]
        }
      ]
    },
    {
      "cell_type": "markdown",
      "source": [
        "***String Formatting & f string ***"
      ],
      "metadata": {
        "id": "Vjh4K6iP0Ome"
      }
    },
    {
      "cell_type": "code",
      "source": [
        "a1=\"EKAGRA\"\n",
        "a2=\"VARMA\"\n",
        "########## f-string ########\n",
        "min= f\"this is {a1} {a2}\"\n",
        "print(min)\n",
        "##STRING FORMATING############################################\n",
        "\n",
        "min1= \"m name is %s %s\"%(a1,a2)\n",
        "print(min1)\n",
        "\n",
        "min2= \"my name is {1} {0}\"\n",
        "min3=min2.format(a1,a2)\n",
        "print(min3)\n"
      ],
      "metadata": {
        "colab": {
          "base_uri": "https://localhost:8080/"
        },
        "id": "_3CS8fjJxhLt",
        "outputId": "5824347a-5e45-48a8-d970-07ca8d96e5f9"
      },
      "execution_count": null,
      "outputs": [
        {
          "output_type": "stream",
          "name": "stdout",
          "text": [
            "this is EKAGRA VARMA\n",
            "m name is EKAGRA VARMA\n",
            "my name is VARMA EKAGRA\n"
          ]
        }
      ]
    },
    {
      "cell_type": "markdown",
      "source": [
        "**SNAKE-WATER-GUN**"
      ],
      "metadata": {
        "id": "FPO8BYfi16qW"
      }
    },
    {
      "cell_type": "code",
      "source": [
        "import random as rd\n",
        "count=0\n",
        "q=\"nothing\"\n",
        "w=\"snake won\"\n",
        "e=\"water won\"\n",
        "r= \"Gun won\"\n",
        "t=\"you won\"\n",
        "y=\"computer won\"\n",
        "\n",
        "c1 = 0 \n",
        "c2=0\n",
        "c3=0\n",
        "c4=0\n",
        "c5=0\n",
        "c6=0\n",
        "while(count <10):\n",
        "  lst=[\"S\",\"G\",\"W\"]\n",
        "  print (\"Enter your %s choice S/W/G\"%(count+1))\n",
        "  inp=input()\n",
        "  ele = rd.choice(lst)\n",
        "  if (inp == 'S'):\n",
        "    count=count+1\n",
        "    if (ele == 'S'):\n",
        "      print(q)\n",
        "      c1=c1+1\n",
        "      #c6=c6+1#comp won \n",
        "      #print(y)\n",
        "    elif (ele == 'G'):\n",
        "      print(r)\n",
        "      c2=c2+1\n",
        "      c6=c6+1\n",
        "      print(y)\n",
        "    elif (ele == 'W'):\n",
        "      print(w)\n",
        "      c3=c3+1\n",
        "      c5=c5+1 #input won\n",
        "      print(t) \n",
        "  if (inp == 'W'):\n",
        "    count=count+1\n",
        "    if (ele == 'S'):\n",
        "      print(w)\n",
        "      c3=c3+1\n",
        "      c6=c6+1\n",
        "      print(y)\n",
        "    elif (ele == 'G'):\n",
        "      print(e)\n",
        "      c4=c4+1\n",
        "      c5=c5+1 #input won\n",
        "      print(t)\n",
        "    elif (ele == 'W'):\n",
        "      print(q)\n",
        "      c1=c1+1\n",
        "      #c6=c6+1\n",
        "      #print(y)\n",
        "  if (inp == 'G'):\n",
        "    count=count+1\n",
        "    if (ele == 'S'):\n",
        "      print(r)\n",
        "      c2=c2+1\n",
        "      c5=c5+1\n",
        "      print(t)\n",
        "    elif (ele == 'G'):\n",
        "      print(q)\n",
        "      c1=c1+1\n",
        "      #c6=c6+1\n",
        "      #print(y)\n",
        "    elif (ele == 'W'):\n",
        "      print(e)\n",
        "      c4=c4+1\n",
        "      c6=c6+1\n",
        "      print(y)\n",
        "if (c5>c6):\n",
        "  print(\"Final result :you won\")\n",
        "else:\n",
        "  print(\"Final result :computer won\")\n",
        "#c1=0,c2=0,c3=0,c4=0,c5=0,c6=0\n"
      ],
      "metadata": {
        "id": "CB-Y0nsBzgR4"
      },
      "execution_count": null,
      "outputs": []
    },
    {
      "cell_type": "markdown",
      "source": [
        "**!! args and kwargs !!**"
      ],
      "metadata": {
        "id": "ByjBYPN9nFig"
      }
    },
    {
      "cell_type": "code",
      "source": [
        "# normal arguments ko pahle , phir args , phir kwargs \n",
        "# args is used for list ,kwargs is used for dicionary\n",
        "def func(*args):\n",
        "  for i in range(len(args)):\n",
        "    print (f\"the value of {i+1} is {args[i]}\")\n",
        "    print(args)\n",
        "  print(len(args))\n",
        "  \n",
        "args=[]\n",
        "for i in range(10):\n",
        "  args.append(i)\n",
        "func(args)\n"
      ],
      "metadata": {
        "colab": {
          "base_uri": "https://localhost:8080/"
        },
        "id": "Hc5ej1NE-M0S",
        "outputId": "3ee3f79a-7a8e-4783-f0e7-e2d87b1abbcc"
      },
      "execution_count": null,
      "outputs": [
        {
          "output_type": "stream",
          "name": "stdout",
          "text": [
            "the value of 1 is [0, 1, 2, 3, 4, 5, 6, 7, 8, 9]\n",
            "([0, 1, 2, 3, 4, 5, 6, 7, 8, 9],)\n",
            "1\n"
          ]
        }
      ]
    },
    {
      "cell_type": "markdown",
      "source": [
        "**TIME MODULE**"
      ],
      "metadata": {
        "id": "Z-R5MuVos5LQ"
      }
    },
    {
      "cell_type": "code",
      "source": [
        "import time \n",
        "initial = time.time() #pahle declare kro time phir baad me (loop ke baad ) jo bhi time aaya hai usse minus krdo \n",
        "i=0\n",
        "while(i<20):\n",
        "   print(\"My name is Ekagra Varma\")\n",
        "   i=i+1\n",
        "print(\"the time for while loop is \",(time.time()-initial))\n",
        " \n",
        " ####################################\n",
        "\n",
        "initial2=time.time()\n",
        "for i in range(20):\n",
        "  print(\"My name is \\t\")\n",
        "  time.sleep(2)\n",
        "print(f\"{time.time()-initial2}\")\n",
        "\n",
        "################### Exact time ##########\n",
        "\n",
        "print(time.asctime(time.localtime(time.time())))"
      ],
      "metadata": {
        "colab": {
          "base_uri": "https://localhost:8080/"
        },
        "id": "_fBbo-_3lAD2",
        "outputId": "f7fb2f5f-31ee-42d6-ba73-508d7c9be8cf"
      },
      "execution_count": null,
      "outputs": [
        {
          "output_type": "stream",
          "name": "stdout",
          "text": [
            "My name is Ekagra Varma\n",
            "My name is Ekagra Varma\n",
            "My name is Ekagra Varma\n",
            "My name is Ekagra Varma\n",
            "My name is Ekagra Varma\n",
            "My name is Ekagra Varma\n",
            "My name is Ekagra Varma\n",
            "My name is Ekagra Varma\n",
            "My name is Ekagra Varma\n",
            "My name is Ekagra Varma\n",
            "My name is Ekagra Varma\n",
            "My name is Ekagra Varma\n",
            "My name is Ekagra Varma\n",
            "My name is Ekagra Varma\n",
            "My name is Ekagra Varma\n",
            "My name is Ekagra Varma\n",
            "My name is Ekagra Varma\n",
            "My name is Ekagra Varma\n",
            "My name is Ekagra Varma\n",
            "My name is Ekagra Varma\n",
            "the time for while loop is  0.005493640899658203\n",
            "My name is \t\n",
            "My name is \t\n",
            "My name is \t\n",
            "My name is \t\n",
            "My name is \t\n",
            "My name is \t\n",
            "My name is \t\n",
            "My name is \t\n",
            "My name is \t\n",
            "My name is \t\n",
            "My name is \t\n",
            "My name is \t\n",
            "My name is \t\n",
            "My name is \t\n",
            "My name is \t\n",
            "My name is \t\n",
            "My name is \t\n",
            "My name is \t\n",
            "My name is \t\n",
            "My name is \t\n",
            "40.03982639312744\n",
            "Thu Mar 17 16:43:49 2022\n"
          ]
        }
      ]
    },
    {
      "cell_type": "markdown",
      "source": [
        ""
      ],
      "metadata": {
        "id": "vUR-CsPtxTJ7"
      }
    },
    {
      "cell_type": "code",
      "source": [
        ""
      ],
      "metadata": {
        "id": "CgygasXEs4cK"
      },
      "execution_count": null,
      "outputs": []
    }
  ],
  "metadata": {
    "colab": {
      "name": "Python essetials.ipynb",
      "provenance": [],
      "authorship_tag": "ABX9TyPxnMwlOt+ocZ9FUpyQd2bF",
      "include_colab_link": true
    },
    "kernelspec": {
      "display_name": "Python 3",
      "name": "python3"
    },
    "language_info": {
      "name": "python"
    }
  },
  "nbformat": 4,
  "nbformat_minor": 0
}