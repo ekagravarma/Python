{
  "nbformat": 4,
  "nbformat_minor": 0,
  "metadata": {
    "colab": {
      "name": "Python essetials.ipynb",
      "provenance": [],
      "authorship_tag": "ABX9TyMmZfeIWJj+i4TaD/rJBYU7",
      "include_colab_link": true
    },
    "kernelspec": {
      "name": "python3",
      "display_name": "Python 3"
    },
    "language_info": {
      "name": "python"
    }
  },
  "cells": [
    {
      "cell_type": "markdown",
      "metadata": {
        "id": "view-in-github",
        "colab_type": "text"
      },
      "source": [
        "<a href=\"https://colab.research.google.com/github/ekagravarma/Python/blob/main/Python_essetials.ipynb\" target=\"_parent\"><img src=\"https://colab.research.google.com/assets/colab-badge.svg\" alt=\"Open In Colab\"/></a>"
      ]
    },
    {
      "cell_type": "markdown",
      "source": [
        "\n",
        "Escape characters:\n"
      ],
      "metadata": {
        "id": "MxDPJ96uQ4wa"
      }
    },
    {
      "cell_type": "code",
      "execution_count": 5,
      "metadata": {
        "colab": {
          "base_uri": "https://localhost:8080/"
        },
        "id": "xPzUbC2XQGAR",
        "outputId": "68a91e90-82b9-4bf0-d503-e03e453b679c"
      },
      "outputs": [
        {
          "output_type": "stream",
          "name": "stdout",
          "text": [
            "C:\\narry\n",
            "C:my name is\n",
            "EKAGRA\tVARMA\n"
          ]
        }
      ],
      "source": [
        "\n",
        "#\\n = Escape\n",
        "#\\t = tab \n",
        "print(\"C:\\\\narry\")\n",
        "print(\"C:my name is\\nEKAGRA\\tVARMA\")"
      ]
    },
    {
      "cell_type": "markdown",
      "source": [
        "ADD 2 nos."
      ],
      "metadata": {
        "id": "ctXj42iRR3D_"
      }
    },
    {
      "cell_type": "code",
      "source": [
        "n=int(input())\n",
        "m=int(input())\n",
        "print(\"the sum =\",n+m)"
      ],
      "metadata": {
        "colab": {
          "base_uri": "https://localhost:8080/"
        },
        "id": "GpYzec1WR3mF",
        "outputId": "dc40e2e4-5d5f-4d12-8777-0655b1e096c5"
      },
      "execution_count": 7,
      "outputs": [
        {
          "output_type": "stream",
          "name": "stdout",
          "text": [
            "1\n",
            "2\n",
            "the sum = 3\n"
          ]
        }
      ]
    },
    {
      "cell_type": "markdown",
      "source": [
        "Dictionaries"
      ],
      "metadata": {
        "id": "_pZQcvt5VUNz"
      }
    },
    {
      "cell_type": "code",
      "source": [
        "d1={}\n",
        "d2={\"RAM\":\"1\",\"SHYAM\":\"2\",\"LAXMAN\":\"3\"}\n",
        "print(d2)\n",
        "print(d2[\"RAM\"])\n",
        "print(d2.keys())\n",
        "print(d2.items())"
      ],
      "metadata": {
        "colab": {
          "base_uri": "https://localhost:8080/"
        },
        "id": "2-ft1SIlVUmZ",
        "outputId": "61b045ac-dc73-43dd-b04f-8c425a248b3e"
      },
      "execution_count": 14,
      "outputs": [
        {
          "output_type": "stream",
          "name": "stdout",
          "text": [
            "{'RAM': '1', 'SHYAM': '2', 'LAXMAN': '3'}\n",
            "1\n",
            "dict_keys(['RAM', 'SHYAM', 'LAXMAN'])\n",
            "dict_items([('RAM', '1'), ('SHYAM', '2'), ('LAXMAN', '3')])\n"
          ]
        }
      ]
    },
    {
      "cell_type": "markdown",
      "source": [
        "Excercise --> create a dictionary(word,meaning) and search the meaning of the word enter by the user"
      ],
      "metadata": {
        "id": "R5_4CEMIW5oM"
      }
    },
    {
      "cell_type": "code",
      "source": [
        "d={}\n",
        "\n",
        "print(\"Enter Length =\")\n",
        "n=int(input())\n",
        "for i in range(n):\n",
        "  word=input()\n",
        "  meaning=input()\n",
        "  d[word]=meaning\n",
        "print(d)\n",
        "print(\"ENter word to search\")\n",
        "w1=input()\n",
        "print(\"word's meaning =\",d[w1])"
      ],
      "metadata": {
        "colab": {
          "base_uri": "https://localhost:8080/"
        },
        "id": "uwASVZj_XJR4",
        "outputId": "ddfdfc86-c8ce-48d5-e3d3-53840d254e93"
      },
      "execution_count": 17,
      "outputs": [
        {
          "output_type": "stream",
          "name": "stdout",
          "text": [
            "Enter Length =\n",
            "2\n",
            "21\n",
            "to\n",
            "22\n",
            "tt\n",
            "{'21': 'to', '22': 'tt'}\n",
            "ENter word to search\n",
            "22\n",
            "word's meaning = tt\n"
          ]
        }
      ]
    },
    {
      "cell_type": "markdown",
      "source": [
        "Else-if ==> if age>18 --> eleigible to drive otherwise not"
      ],
      "metadata": {
        "id": "-tLMwyRTb36F"
      }
    },
    {
      "cell_type": "code",
      "source": [
        "def driveage():\n",
        "  print(\"Enter No.\")\n",
        "  n=int(input())\n",
        "  if n>18:\n",
        "    print(\"Eligible\")\n",
        "  elif (n<18):\n",
        "    print(\"Not Eligible\")\n",
        "  else:\n",
        "    print(\"cant decide , come physically \")\n",
        "  print(\"Continue?\\tY or\\tN\")\n",
        "  m=input()\n",
        "if (m == 'Y' or m=='y'):\n",
        "  driveage()"
      ],
      "metadata": {
        "colab": {
          "base_uri": "https://localhost:8080/"
        },
        "id": "fdTK9D9gb5pT",
        "outputId": "5aa707eb-e8e8-40d2-b91e-20c4cfe6c5e1"
      },
      "execution_count": 25,
      "outputs": [
        {
          "name": "stdout",
          "output_type": "stream",
          "text": [
            "Enter No.\n",
            "32\n",
            "Eligible\n",
            "Continue?\tY or\tN\n",
            "n\n"
          ]
        }
      ]
    }
  ]
}