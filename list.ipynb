{
  "nbformat": 4,
  "nbformat_minor": 0,
  "metadata": {
    "colab": {
      "name": "list.ipynb",
      "provenance": [],
      "authorship_tag": "ABX9TyMKSXtm7hmK0bDaqo+jhVhF",
      "include_colab_link": true
    },
    "kernelspec": {
      "name": "python3",
      "display_name": "Python 3"
    },
    "language_info": {
      "name": "python"
    }
  },
  "cells": [
    {
      "cell_type": "markdown",
      "metadata": {
        "id": "view-in-github",
        "colab_type": "text"
      },
      "source": [
        "<a href=\"https://colab.research.google.com/github/ekagravarma/Python/blob/main/list.ipynb\" target=\"_parent\"><img src=\"https://colab.research.google.com/assets/colab-badge.svg\" alt=\"Open In Colab\"/></a>"
      ]
    },
    {
      "cell_type": "code",
      "execution_count": 53,
      "metadata": {
        "colab": {
          "base_uri": "https://localhost:8080/"
        },
        "id": "rAYoCkgUPezB",
        "outputId": "8d1261ae-cf15-4be7-a467-d515bf7bd220"
      },
      "outputs": [
        {
          "output_type": "stream",
          "name": "stdout",
          "text": [
            "Enter length\n",
            "5\n",
            "enter nos 0\n",
            "1\n",
            "enter nos 1\n",
            "5\n",
            "enter nos 2\n",
            "6\n",
            "enter nos 3\n",
            "\n",
            "enter nos 4\n",
            "9\n",
            "9\n"
          ]
        }
      ],
      "source": [
        "print(\"Enter length\")\n",
        "n=int(input())\n",
        "lst=[]\n",
        "for i in range(0,n):\n",
        "\tprint(\"enter nos\",i+1)\n",
        "\tele=input()\n",
        "\tlst.append(ele)\n",
        "\n",
        "max=lst[0]\n",
        "for  i in range(0,n):\n",
        "\tif lst[i]>max:\n",
        "\t\tmax=lst[i]\n",
        "print(max)\n",
        "\n"
      ]
    },
    {
      "cell_type": "code",
      "source": [
        "def lstcall():\n",
        "  print(\"Enter lenght\")\n",
        "  n=int(input())\n",
        "  lst=[]\n",
        "  for i in range(0,n):\n",
        "    print(\"Enter\"+str(i)+\"no.\")\n",
        "    ele=input()\n",
        "    #print(type(ele))\n",
        "def lstsmall():\n",
        "  lstcall()\n",
        "  min=lst[0]\n",
        "  for i in range(0,n):\n",
        "      if min>lst[i]:\n",
        "        min=lst[i]\n",
        "  print(min)\n",
        "  return min\n",
        "print(lstsmall())\n",
        "\n"
      ],
      "metadata": {
        "id": "_7bsZJkjaMQY",
        "colab": {
          "base_uri": "https://localhost:8080/"
        },
        "outputId": "ae420826-b102-4cbb-aca6-cbfd970d083d"
      },
      "execution_count": 63,
      "outputs": [
        {
          "output_type": "stream",
          "name": "stdout",
          "text": [
            "Enter lenght\n",
            "4\n",
            "Enter0no.\n",
            "1\n",
            "Enter1no.\n",
            "2\n",
            "Enter2no.\n",
            "3\n",
            "Enter3no.\n",
            "4\n",
            "\n",
            "\n",
            "Enter lenght\n",
            "5\n",
            "Enter0no.\n",
            "1\n",
            "Enter1no.\n",
            "2\n",
            "Enter2no.\n",
            "3\n",
            "Enter3no.\n",
            "4\n",
            "Enter4no.\n",
            "5\n",
            "\n",
            "\n"
          ]
        }
      ]
    },
    {
      "cell_type": "code",
      "source": [
        "def lstcall():\n",
        "  print(\"Enter lenght\")\n",
        "  n=int(input())\n",
        "  lst=[]\n",
        "  for i in range(0,n):\n",
        "    print(\"Enter\"+str(i+1)+\"no.\")\n",
        "    ele=input()\n",
        "    lst.append(ele)\n",
        "  for j in range(0,n):\n",
        "    print(lst[j])\n",
        "\n",
        "def lstsmall():\n",
        "  lstcall()\n",
        "  min=lst[0]\n",
        "  i=0\n",
        "  for k in range(0,n):\n",
        "      if min>lst[k]:\n",
        "        min=lst[k]\n",
        "  print(\"the least =\",min)\n",
        "print(lstsmall())"
      ],
      "metadata": {
        "colab": {
          "base_uri": "https://localhost:8080/"
        },
        "id": "qWeylqE8xIC7",
        "outputId": "dbba9554-90d3-4ca1-f00f-dd24950f5ea3"
      },
      "execution_count": 80,
      "outputs": [
        {
          "output_type": "stream",
          "name": "stdout",
          "text": [
            "Enter lenght\n",
            "3\n",
            "Enter1no.\n",
            "3\n",
            "Enter2no.\n",
            "43\n",
            "Enter3no.\n",
            "1\n",
            "3\n",
            "43\n",
            "1\n",
            "the least = 0\n",
            "None\n"
          ]
        }
      ]
    },
    {
      "cell_type": "code",
      "source": [
        ""
      ],
      "metadata": {
        "id": "4P-30_zd4h1M"
      },
      "execution_count": null,
      "outputs": []
    }
  ]
}