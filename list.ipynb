{
  "nbformat": 4,
  "nbformat_minor": 0,
  "metadata": {
    "colab": {
      "name": "list.ipynb",
      "provenance": [],
      "authorship_tag": "ABX9TyMCYhztGNxRbMQuvLrNVKZ8",
      "include_colab_link": true
    },
    "kernelspec": {
      "name": "python3",
      "display_name": "Python 3"
    },
    "language_info": {
      "name": "python"
    }
  },
  "cells": [
    {
      "cell_type": "markdown",
      "metadata": {
        "id": "view-in-github",
        "colab_type": "text"
      },
      "source": [
        "<a href=\"https://colab.research.google.com/github/ekagravarma/Python/blob/main/list.ipynb\" target=\"_parent\"><img src=\"https://colab.research.google.com/assets/colab-badge.svg\" alt=\"Open In Colab\"/></a>"
      ]
    },
    {
      "cell_type": "code",
      "execution_count": 53,
      "metadata": {
        "colab": {
          "base_uri": "https://localhost:8080/"
        },
        "id": "rAYoCkgUPezB",
        "outputId": "8d1261ae-cf15-4be7-a467-d515bf7bd220"
      },
      "outputs": [
        {
          "output_type": "stream",
          "name": "stdout",
          "text": [
            "Enter length\n",
            "5\n",
            "enter nos 0\n",
            "1\n",
            "enter nos 1\n",
            "5\n",
            "enter nos 2\n",
            "6\n",
            "enter nos 3\n",
            "\n",
            "enter nos 4\n",
            "9\n",
            "9\n"
          ]
        }
      ],
      "source": [
        "print(\"Enter length\")\n",
        "n=int(input())\n",
        "lst=[]\n",
        "for i in range(0,n):\n",
        "\tprint(\"enter nos\",i+1)\n",
        "\tele=input()\n",
        "\tlst.append(ele)\n",
        "\n",
        "max=lst[0]\n",
        "for  i in range(0,n):\n",
        "\tif lst[i]>max:\n",
        "\t\tmax=lst[i]\n",
        "print(max)\n",
        "\n"
      ]
    },
    {
      "cell_type": "code",
      "source": [
        "def lstcall():\n",
        "  print(\"Enter lenght\")\n",
        "  n=int(input())\n",
        "  lst=[]\n",
        "  for i in range(0,n):\n",
        "    print(\"Enter\"+str(i)+\"no.\")\n",
        "    ele=input()\n",
        "    #print(type(ele))\n",
        "def lstsmall():\n",
        "  lstcall()\n",
        "  min=lst[0]\n",
        "  for i in range(0,n):\n",
        "      if min>lst[i]:\n",
        "        min=lst[i]\n",
        "  print(min)\n",
        "  return min\n",
        "print(lstsmall())\n",
        "\n"
      ],
      "metadata": {
        "id": "_7bsZJkjaMQY",
        "colab": {
          "base_uri": "https://localhost:8080/"
        },
        "outputId": "ae420826-b102-4cbb-aca6-cbfd970d083d"
      },
      "execution_count": 63,
      "outputs": [
        {
          "output_type": "stream",
          "name": "stdout",
          "text": [
            "Enter lenght\n",
            "4\n",
            "Enter0no.\n",
            "1\n",
            "Enter1no.\n",
            "2\n",
            "Enter2no.\n",
            "3\n",
            "Enter3no.\n",
            "4\n",
            "\n",
            "\n",
            "Enter lenght\n",
            "5\n",
            "Enter0no.\n",
            "1\n",
            "Enter1no.\n",
            "2\n",
            "Enter2no.\n",
            "3\n",
            "Enter3no.\n",
            "4\n",
            "Enter4no.\n",
            "5\n",
            "\n",
            "\n"
          ]
        }
      ]
    },
    {
      "cell_type": "code",
      "source": [
        "def lstcall():\n",
        "  print(\"Enter lenght\")\n",
        "  n=int(input())\n",
        "  lst=[]\n",
        "  for i in range(0,n):\n",
        "    print(\"Enter\"+str(i+1)+\"no.\")\n",
        "    ele=input()\n",
        "    lst.append(ele)\n",
        "  for j in range(0,n):\n",
        "    print(lst[j])\n",
        "\n",
        "def lstsmall():\n",
        "  lstcall()\n",
        "  min=lst[0]\n",
        "  i=0\n",
        "  for k in range(0,n):\n",
        "      if min>lst[k]:\n",
        "        min=lst[k]\n",
        "  print(\"the least =\",min)\n",
        "print(lstsmall())"
      ],
      "metadata": {
        "colab": {
          "base_uri": "https://localhost:8080/"
        },
        "id": "qWeylqE8xIC7",
        "outputId": "dbba9554-90d3-4ca1-f00f-dd24950f5ea3"
      },
      "execution_count": 80,
      "outputs": [
        {
          "output_type": "stream",
          "name": "stdout",
          "text": [
            "Enter lenght\n",
            "3\n",
            "Enter1no.\n",
            "3\n",
            "Enter2no.\n",
            "43\n",
            "Enter3no.\n",
            "1\n",
            "3\n",
            "43\n",
            "1\n",
            "the least = 0\n",
            "None\n"
          ]
        }
      ]
    },
    {
      "cell_type": "code",
      "source": [
        "'''WAP to  to count the number of strings where the string length is 2 or more and the first and last character are same from a given list of strings. Go to the editor\n",
        "Sample List : ['abc', 'xyz', 'aba', '1221']\n",
        "Expected Result : 2'''\n",
        "lst=[]\n",
        "c=0\n",
        "n=int(input())\n",
        "for i in range(0,n):\n",
        "  ele=input()\n",
        "  lst.append(ele)\n",
        "print(lst)\n",
        "for j in range(0,n):\n",
        "  s=lst[j]\n",
        "  while(len(s)>=2):\n",
        "    #print(len(s))\n",
        "    #print(s[0],s[-1])\n",
        "    if(s[0]==s[-1]):\n",
        "      c=c+1\n",
        "    else:\n",
        "      break\n",
        "    break\n",
        "print(\"the count is \",c)\n",
        "\n",
        "      \n"
      ],
      "metadata": {
        "colab": {
          "base_uri": "https://localhost:8080/"
        },
        "id": "4P-30_zd4h1M",
        "outputId": "bb70c00b-e060-4462-8cbb-0b53d52e1009"
      },
      "execution_count": 14,
      "outputs": [
        {
          "output_type": "stream",
          "name": "stdout",
          "text": [
            "5\n",
            "89\n",
            "166741\n",
            "88990088\n",
            "87\n",
            "2\n",
            "['89', '166741', '88990088', '87', '2']\n",
            "the count is  2\n"
          ]
        }
      ]
    },
    {
      "cell_type": "code",
      "source": [
        "'''Write a Python program to get a list, sorted in increasing order by the last element in each tuple from a given list of non-empty tuples. Go to the editor\n",
        "Sample List : [(2, 5), (1, 2), (4, 4), (2, 3), (2, 1)]\n",
        "Expected Result : [(2, 1), (1, 2), (2, 3), (4, 4), (2, 5)]'''\n",
        "\n",
        "print(\"enter length\")\n",
        "n=int(input())\n",
        "lst=[]\n",
        "for i in range(0,n):\n",
        "  ele=tuple(input())\n",
        "  lst.append(ele)\n",
        "print(lst)"
      ],
      "metadata": {
        "colab": {
          "base_uri": "https://localhost:8080/"
        },
        "id": "57QiTS465nO-",
        "outputId": "23cf9d90-cb11-4a79-ee70-e00f9eff20c2"
      },
      "execution_count": 18,
      "outputs": [
        {
          "output_type": "stream",
          "name": "stdout",
          "text": [
            "enter length\n",
            "5\n",
            "21\n",
            "25\n",
            "12\n",
            "44\n",
            "23\n",
            "[('2', '1'), ('2', '5'), ('1', '2'), ('4', '4'), ('2', '3')]\n"
          ]
        }
      ]
    }
  ]
}